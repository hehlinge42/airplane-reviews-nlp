{
 "cells": [
  {
   "cell_type": "code",
   "execution_count": 1,
   "metadata": {},
   "outputs": [],
   "source": [
    "%load_ext autoreload\n",
    "%autoreload 2"
   ]
  },
  {
   "cell_type": "code",
   "execution_count": 2,
   "metadata": {},
   "outputs": [
    {
     "name": "stdout",
     "output_type": "stream",
     "text": [
      "fatal: destination path 'gsdmm' already exists and is not an empty directory.\r\n"
     ]
    }
   ],
   "source": [
    "!git clone https://github.com/rwalk/gsdmm"
   ]
  },
  {
   "cell_type": "code",
   "execution_count": 3,
   "metadata": {},
   "outputs": [
    {
     "name": "stderr",
     "output_type": "stream",
     "text": [
      "/opt/anaconda3/lib/python3.8/site-packages/gensim/corpora/dictionary.py:11: DeprecationWarning: Using or importing the ABCs from 'collections' instead of from 'collections.abc' is deprecated since Python 3.3, and in 3.9 it will stop working\n",
      "  from collections import Mapping, defaultdict\n",
      "/opt/anaconda3/lib/python3.8/site-packages/scipy/sparse/sparsetools.py:21: DeprecationWarning: `scipy.sparse.sparsetools` is deprecated!\n",
      "scipy.sparse.sparsetools is a private module for scipy.sparse, and should not be used.\n",
      "  _deprecated()\n",
      "/opt/anaconda3/lib/python3.8/site-packages/gensim/models/doc2vec.py:73: DeprecationWarning: Using or importing the ABCs from 'collections' instead of from 'collections.abc' is deprecated since Python 3.3, and in 3.9 it will stop working\n",
      "  from collections import namedtuple, defaultdict, Iterable\n",
      "/opt/anaconda3/lib/python3.8/site-packages/nltk/decorators.py:67: DeprecationWarning: `formatargspec` is deprecated since Python 3.5. Use `signature` and the `Signature` object directly\n",
      "  signature = inspect.formatargspec(\n",
      "/opt/anaconda3/lib/python3.8/site-packages/nltk/lm/counter.py:15: DeprecationWarning: Using or importing the ABCs from 'collections' instead of from 'collections.abc' is deprecated since Python 3.3, and in 3.9 it will stop working\n",
      "  from collections import Sequence, defaultdict\n",
      "[nltk_data] Downloading package punkt to /Users/Hugo/nltk_data...\n",
      "[nltk_data]   Package punkt is already up-to-date!\n",
      "[nltk_data] Downloading package stopwords to /Users/Hugo/nltk_data...\n",
      "[nltk_data]   Package stopwords is already up-to-date!\n"
     ]
    }
   ],
   "source": [
    "#imports\n",
    "import os\n",
    "import sys\n",
    "\n",
    "sys.path.append(\"../\")\n",
    "\n",
    "import pandas as pd\n",
    "import numpy as np\n",
    "import seaborn as sns\n",
    "import matplotlib.pyplot as plt\n",
    "import operator\n",
    "import pyLDAvis\n",
    "import pyLDAvis.gensim\n",
    "import gensim\n",
    "from gensim.models.coherencemodel import CoherenceModel\n",
    "\n",
    "from gsdmm.gsdmm import MovieGroupProcess\n",
    "\n",
    "from src.text_preprocessor import TextPreprocessor\n",
    "from src.embeddor import Embeddor\n",
    "from src.meta_data_preprocessor import MetaDataPreprocessor\n",
    "\n",
    "%matplotlib inline\n",
    "plt.rcParams[\"figure.figsize\"] = (10, 6)\n",
    "sns.set_palette(\"husl\")"
   ]
  },
  {
   "cell_type": "code",
   "execution_count": 4,
   "metadata": {},
   "outputs": [
    {
     "name": "stderr",
     "output_type": "stream",
     "text": [
      "/opt/anaconda3/lib/python3.8/site-packages/ipykernel/ipkernel.py:287: DeprecationWarning: `should_run_async` will not call `transform_cell` automatically in the future. Please pass the result to `transformed_cell` argument and any exception that happen during thetransform in `preprocessing_exc_tuple` in IPython 7.17 and above.\n",
      "  and should_run_async(code)\n"
     ]
    }
   ],
   "source": [
    "DATA_FOLDER = \"../data/inputs\"\n",
    "DATA1 = \"seatguru_python_scraping.csv\"\n",
    "DATA2 = \"skytrax_scraping_2.csv\""
   ]
  },
  {
   "cell_type": "code",
   "execution_count": 5,
   "metadata": {},
   "outputs": [
    {
     "name": "stderr",
     "output_type": "stream",
     "text": [
      "/opt/anaconda3/lib/python3.8/site-packages/ipykernel/ipkernel.py:287: DeprecationWarning: `should_run_async` will not call `transform_cell` automatically in the future. Please pass the result to `transformed_cell` argument and any exception that happen during thetransform in `preprocessing_exc_tuple` in IPython 7.17 and above.\n",
      "  and should_run_async(code)\n"
     ]
    }
   ],
   "source": [
    "df1 = pd.read_csv(os.path.join(DATA_FOLDER, DATA1), index_col=0)\n",
    "df2 = pd.read_csv(os.path.join(DATA_FOLDER, DATA2), index_col=0)\n",
    "concat_df = pd.concat([df1, df2])\n",
    "concat_df.reset_index(inplace=True)"
   ]
  },
  {
   "cell_type": "code",
   "execution_count": 6,
   "metadata": {},
   "outputs": [
    {
     "name": "stderr",
     "output_type": "stream",
     "text": [
      "/opt/anaconda3/lib/python3.8/site-packages/ipykernel/ipkernel.py:287: DeprecationWarning: `should_run_async` will not call `transform_cell` automatically in the future. Please pass the result to `transformed_cell` argument and any exception that happen during thetransform in `preprocessing_exc_tuple` in IPython 7.17 and above.\n",
      "  and should_run_async(code)\n"
     ]
    },
    {
     "data": {
      "text/html": [
       "<div>\n",
       "<style scoped>\n",
       "    .dataframe tbody tr th:only-of-type {\n",
       "        vertical-align: middle;\n",
       "    }\n",
       "\n",
       "    .dataframe tbody tr th {\n",
       "        vertical-align: top;\n",
       "    }\n",
       "\n",
       "    .dataframe thead th {\n",
       "        text-align: right;\n",
       "    }\n",
       "</style>\n",
       "<table border=\"1\" class=\"dataframe\">\n",
       "  <thead>\n",
       "    <tr style=\"text-align: right;\">\n",
       "      <th></th>\n",
       "      <th>date</th>\n",
       "      <th>body</th>\n",
       "      <th>airline</th>\n",
       "      <th>aircraft</th>\n",
       "    </tr>\n",
       "  </thead>\n",
       "  <tbody>\n",
       "    <tr>\n",
       "      <th>0</th>\n",
       "      <td>2019/12/29</td>\n",
       "      <td>From Istabul to Athens. Seat 3C doesnt have an...</td>\n",
       "      <td>aegean-airlines</td>\n",
       "      <td>airbus_a319-100</td>\n",
       "    </tr>\n",
       "    <tr>\n",
       "      <th>0</th>\n",
       "      <td>2018/06/09</td>\n",
       "      <td>I traveled Athens-Zurich with Aegean Airlines ...</td>\n",
       "      <td>aegean-airlines</td>\n",
       "      <td>airbus_a320-200</td>\n",
       "    </tr>\n",
       "    <tr>\n",
       "      <th>1</th>\n",
       "      <td>2018/05/25</td>\n",
       "      <td>very tiny leg room as I am quite tall. flight ...</td>\n",
       "      <td>aegean-airlines</td>\n",
       "      <td>airbus_a320-200</td>\n",
       "    </tr>\n",
       "    <tr>\n",
       "      <th>2</th>\n",
       "      <td>2018/04/19</td>\n",
       "      <td>Exit row 12F was nice for the 2.5 hour ZRH-ATH...</td>\n",
       "      <td>aegean-airlines</td>\n",
       "      <td>airbus_a320-200</td>\n",
       "    </tr>\n",
       "    <tr>\n",
       "      <th>3</th>\n",
       "      <td>2017/07/22</td>\n",
       "      <td>It is a wonderful seat at no additional cost (...</td>\n",
       "      <td>aegean-airlines</td>\n",
       "      <td>airbus_a320-200</td>\n",
       "    </tr>\n",
       "  </tbody>\n",
       "</table>\n",
       "</div>"
      ],
      "text/plain": [
       "         date                                               body  \\\n",
       "0  2019/12/29  From Istabul to Athens. Seat 3C doesnt have an...   \n",
       "0  2018/06/09  I traveled Athens-Zurich with Aegean Airlines ...   \n",
       "1  2018/05/25  very tiny leg room as I am quite tall. flight ...   \n",
       "2  2018/04/19  Exit row 12F was nice for the 2.5 hour ZRH-ATH...   \n",
       "3  2017/07/22  It is a wonderful seat at no additional cost (...   \n",
       "\n",
       "           airline         aircraft  \n",
       "0  aegean-airlines  airbus_a319-100  \n",
       "0  aegean-airlines  airbus_a320-200  \n",
       "1  aegean-airlines  airbus_a320-200  \n",
       "2  aegean-airlines  airbus_a320-200  \n",
       "3  aegean-airlines  airbus_a320-200  "
      ]
     },
     "execution_count": 6,
     "metadata": {},
     "output_type": "execute_result"
    }
   ],
   "source": [
    "df1.head()"
   ]
  },
  {
   "cell_type": "code",
   "execution_count": 7,
   "metadata": {},
   "outputs": [
    {
     "name": "stderr",
     "output_type": "stream",
     "text": [
      "/opt/anaconda3/lib/python3.8/site-packages/ipykernel/ipkernel.py:287: DeprecationWarning: `should_run_async` will not call `transform_cell` automatically in the future. Please pass the result to `transformed_cell` argument and any exception that happen during thetransform in `preprocessing_exc_tuple` in IPython 7.17 and above.\n",
      "  and should_run_async(code)\n"
     ]
    },
    {
     "data": {
      "text/html": [
       "<div>\n",
       "<style scoped>\n",
       "    .dataframe tbody tr th:only-of-type {\n",
       "        vertical-align: middle;\n",
       "    }\n",
       "\n",
       "    .dataframe tbody tr th {\n",
       "        vertical-align: top;\n",
       "    }\n",
       "\n",
       "    .dataframe thead th {\n",
       "        text-align: right;\n",
       "    }\n",
       "</style>\n",
       "<table border=\"1\" class=\"dataframe\">\n",
       "  <thead>\n",
       "    <tr style=\"text-align: right;\">\n",
       "      <th></th>\n",
       "      <th>country</th>\n",
       "      <th>number_of_reviews</th>\n",
       "      <th>date</th>\n",
       "      <th>rating</th>\n",
       "      <th>header</th>\n",
       "      <th>body</th>\n",
       "      <th>aircraft</th>\n",
       "      <th>cabin</th>\n",
       "      <th>airline</th>\n",
       "    </tr>\n",
       "  </thead>\n",
       "  <tbody>\n",
       "    <tr>\n",
       "      <th>0</th>\n",
       "      <td>Netherlands</td>\n",
       "      <td>NaN</td>\n",
       "      <td>2019-11-11</td>\n",
       "      <td>9.0</td>\n",
       "      <td>\"pretty decent airline\"</td>\n",
       "      <td>✅ Trip Verified |  Moroni to Moheli. Turned ou...</td>\n",
       "      <td>NaN</td>\n",
       "      <td>NaN</td>\n",
       "      <td>ab-aviation</td>\n",
       "    </tr>\n",
       "    <tr>\n",
       "      <th>1</th>\n",
       "      <td>United Kingdom</td>\n",
       "      <td>26 reviews</td>\n",
       "      <td>2019-06-25</td>\n",
       "      <td>1.0</td>\n",
       "      <td>\"Not a good airline\"</td>\n",
       "      <td>✅ Trip Verified | Moroni to Anjouan. It is a v...</td>\n",
       "      <td>E120</td>\n",
       "      <td>NaN</td>\n",
       "      <td>ab-aviation</td>\n",
       "    </tr>\n",
       "    <tr>\n",
       "      <th>2</th>\n",
       "      <td>United Kingdom</td>\n",
       "      <td>26 reviews</td>\n",
       "      <td>2019-06-25</td>\n",
       "      <td>1.0</td>\n",
       "      <td>\"flight was fortunately short\"</td>\n",
       "      <td>✅ Trip Verified |  Anjouan to Dzaoudzi. A very...</td>\n",
       "      <td>Embraer E120</td>\n",
       "      <td>NaN</td>\n",
       "      <td>ab-aviation</td>\n",
       "    </tr>\n",
       "    <tr>\n",
       "      <th>0</th>\n",
       "      <td>Serbia</td>\n",
       "      <td>NaN</td>\n",
       "      <td>2019-09-28</td>\n",
       "      <td>1.0</td>\n",
       "      <td>\"I will never fly again with Adria\"</td>\n",
       "      <td>Not Verified |  Please do a favor yourself and...</td>\n",
       "      <td>NaN</td>\n",
       "      <td>NaN</td>\n",
       "      <td>adria-airways</td>\n",
       "    </tr>\n",
       "    <tr>\n",
       "      <th>1</th>\n",
       "      <td>Netherlands</td>\n",
       "      <td>NaN</td>\n",
       "      <td>2019-09-24</td>\n",
       "      <td>1.0</td>\n",
       "      <td>\"it ruined our last days of holidays\"</td>\n",
       "      <td>✅ Trip Verified | Do not book a flight with th...</td>\n",
       "      <td>NaN</td>\n",
       "      <td>NaN</td>\n",
       "      <td>adria-airways</td>\n",
       "    </tr>\n",
       "  </tbody>\n",
       "</table>\n",
       "</div>"
      ],
      "text/plain": [
       "          country number_of_reviews        date  rating  \\\n",
       "0     Netherlands               NaN  2019-11-11     9.0   \n",
       "1  United Kingdom        26 reviews  2019-06-25     1.0   \n",
       "2  United Kingdom        26 reviews  2019-06-25     1.0   \n",
       "0          Serbia               NaN  2019-09-28     1.0   \n",
       "1     Netherlands               NaN  2019-09-24     1.0   \n",
       "\n",
       "                                  header  \\\n",
       "0                \"pretty decent airline\"   \n",
       "1                   \"Not a good airline\"   \n",
       "2         \"flight was fortunately short\"   \n",
       "0    \"I will never fly again with Adria\"   \n",
       "1  \"it ruined our last days of holidays\"   \n",
       "\n",
       "                                                body       aircraft cabin  \\\n",
       "0  ✅ Trip Verified |  Moroni to Moheli. Turned ou...            NaN   NaN   \n",
       "1  ✅ Trip Verified | Moroni to Anjouan. It is a v...           E120   NaN   \n",
       "2  ✅ Trip Verified |  Anjouan to Dzaoudzi. A very...  Embraer E120    NaN   \n",
       "0  Not Verified |  Please do a favor yourself and...            NaN   NaN   \n",
       "1  ✅ Trip Verified | Do not book a flight with th...            NaN   NaN   \n",
       "\n",
       "         airline  \n",
       "0    ab-aviation  \n",
       "1    ab-aviation  \n",
       "2    ab-aviation  \n",
       "0  adria-airways  \n",
       "1  adria-airways  "
      ]
     },
     "execution_count": 7,
     "metadata": {},
     "output_type": "execute_result"
    }
   ],
   "source": [
    "df2.head()"
   ]
  },
  {
   "cell_type": "markdown",
   "metadata": {},
   "source": [
    "# EDA"
   ]
  },
  {
   "cell_type": "code",
   "execution_count": 8,
   "metadata": {},
   "outputs": [
    {
     "name": "stderr",
     "output_type": "stream",
     "text": [
      "/opt/anaconda3/lib/python3.8/site-packages/ipykernel/ipkernel.py:287: DeprecationWarning: `should_run_async` will not call `transform_cell` automatically in the future. Please pass the result to `transformed_cell` argument and any exception that happen during thetransform in `preprocessing_exc_tuple` in IPython 7.17 and above.\n",
      "  and should_run_async(code)\n"
     ]
    },
    {
     "data": {
      "image/png": "[encoded data removed]",
      "text/plain": [
       "<Figure size 720x432 with 1 Axes>"
      ]
     },
     "metadata": {
      "needs_background": "light"
     },
     "output_type": "display_data"
    }
   ],
   "source": [
    "sns.countplot(x='rating', data=df2)\n",
    "plt.title('Number of reviews per rating')\n",
    "plt.xlabel('Rating')\n",
    "plt.ylabel(' ')\n",
    "plt.show()"
   ]
  },
  {
   "cell_type": "code",
   "execution_count": 9,
   "metadata": {},
   "outputs": [
    {
     "name": "stderr",
     "output_type": "stream",
     "text": [
      "/opt/anaconda3/lib/python3.8/site-packages/ipykernel/ipkernel.py:287: DeprecationWarning: `should_run_async` will not call `transform_cell` automatically in the future. Please pass the result to `transformed_cell` argument and any exception that happen during thetransform in `preprocessing_exc_tuple` in IPython 7.17 and above.\n",
      "  and should_run_async(code)\n"
     ]
    }
   ],
   "source": [
    "# def bin(rating):\n",
    "#     if rating <= 3:\n",
    "#         return \"Bad\"\n",
    "#     elif rating > 3 and rating < 8:\n",
    "#         return \"Medium\"\n",
    "#     else:\n",
    "#         return \"Good\""
   ]
  },
  {
   "cell_type": "code",
   "execution_count": 10,
   "metadata": {},
   "outputs": [
    {
     "name": "stderr",
     "output_type": "stream",
     "text": [
      "/opt/anaconda3/lib/python3.8/site-packages/ipykernel/ipkernel.py:287: DeprecationWarning: `should_run_async` will not call `transform_cell` automatically in the future. Please pass the result to `transformed_cell` argument and any exception that happen during thetransform in `preprocessing_exc_tuple` in IPython 7.17 and above.\n",
      "  and should_run_async(code)\n"
     ]
    }
   ],
   "source": [
    "# df2['bin'] = df2['rating'].apply(bin)"
   ]
  },
  {
   "cell_type": "code",
   "execution_count": 12,
   "metadata": {},
   "outputs": [
    {
     "name": "stderr",
     "output_type": "stream",
     "text": [
      "/opt/anaconda3/lib/python3.8/site-packages/ipykernel/ipkernel.py:287: DeprecationWarning: `should_run_async` will not call `transform_cell` automatically in the future. Please pass the result to `transformed_cell` argument and any exception that happen during thetransform in `preprocessing_exc_tuple` in IPython 7.17 and above.\n",
      "  and should_run_async(code)\n"
     ]
    }
   ],
   "source": [
    "# sns.countplot(x='bin', data=df2)\n",
    "# plt.title('Number of reviews per bin')\n",
    "# plt.xlabel('Rating')\n",
    "# plt.ylabel(' ')\n",
    "# plt.show()"
   ]
  },
  {
   "cell_type": "markdown",
   "metadata": {},
   "source": [
    "# Adding meta-data"
   ]
  },
  {
   "cell_type": "code",
   "execution_count": 13,
   "metadata": {
    "scrolled": true
   },
   "outputs": [
    {
     "name": "stderr",
     "output_type": "stream",
     "text": [
      "/opt/anaconda3/lib/python3.8/site-packages/ipykernel/ipkernel.py:287: DeprecationWarning: `should_run_async` will not call `transform_cell` automatically in the future. Please pass the result to `transformed_cell` argument and any exception that happen during thetransform in `preprocessing_exc_tuple` in IPython 7.17 and above.\n",
      "  and should_run_async(code)\n",
      "[D 220201 12:06:35 meta_data_preprocessor:112] Extracting airplane data\n",
      "[D 220201 12:06:37 meta_data_preprocessor:114] Extracting cities and countries\n",
      "[D 220201 12:06:37 meta_data_preprocessor:91] Parsing review 0\n",
      "[D 220201 12:07:12 meta_data_preprocessor:91] Parsing review 10000\n",
      "[D 220201 12:07:41 meta_data_preprocessor:91] Parsing review 20000\n",
      "[D 220201 12:08:07 meta_data_preprocessor:91] Parsing review 30000\n",
      "[D 220201 12:08:32 meta_data_preprocessor:91] Parsing review 40000\n",
      "[D 220201 12:08:57 meta_data_preprocessor:91] Parsing review 50000\n",
      "[D 220201 12:09:25 meta_data_preprocessor:91] Parsing review 60000\n",
      "[D 220201 12:09:50 meta_data_preprocessor:91] Parsing review 70000\n",
      "[D 220201 12:10:15 meta_data_preprocessor:91] Parsing review 80000\n",
      "[D 220201 12:10:41 meta_data_preprocessor:91] Parsing review 90000\n",
      "[D 220201 12:11:06 meta_data_preprocessor:91] Parsing review 100000\n",
      "[D 220201 12:11:37 meta_data_preprocessor:91] Parsing review 110000\n",
      "[D 220201 12:12:02 meta_data_preprocessor:91] Parsing review 120000\n"
     ]
    }
   ],
   "source": [
    "meta_data_preprocessor = MetaDataPreprocessor()\n",
    "df_with_metadata = meta_data_preprocessor.preprocess(concat_df)\n",
    "df_with_metadata.to_pickle(os.path.join(\"..\", \"data\", \"preprocessed\", \"reviews_metadata.pickle\"))"
   ]
  },
  {
   "cell_type": "code",
   "execution_count": 14,
   "metadata": {},
   "outputs": [
    {
     "name": "stderr",
     "output_type": "stream",
     "text": [
      "/opt/anaconda3/lib/python3.8/site-packages/ipykernel/ipkernel.py:287: DeprecationWarning: `should_run_async` will not call `transform_cell` automatically in the future. Please pass the result to `transformed_cell` argument and any exception that happen during thetransform in `preprocessing_exc_tuple` in IPython 7.17 and above.\n",
      "  and should_run_async(code)\n"
     ]
    },
    {
     "data": {
      "text/html": [
       "<div>\n",
       "<style scoped>\n",
       "    .dataframe tbody tr th:only-of-type {\n",
       "        vertical-align: middle;\n",
       "    }\n",
       "\n",
       "    .dataframe tbody tr th {\n",
       "        vertical-align: top;\n",
       "    }\n",
       "\n",
       "    .dataframe thead th {\n",
       "        text-align: right;\n",
       "    }\n",
       "</style>\n",
       "<table border=\"1\" class=\"dataframe\">\n",
       "  <thead>\n",
       "    <tr style=\"text-align: right;\">\n",
       "      <th></th>\n",
       "      <th>index</th>\n",
       "      <th>date</th>\n",
       "      <th>body</th>\n",
       "      <th>airline</th>\n",
       "      <th>aircraft</th>\n",
       "      <th>country</th>\n",
       "      <th>number_of_reviews</th>\n",
       "      <th>rating</th>\n",
       "      <th>header</th>\n",
       "      <th>cabin</th>\n",
       "      <th>trip_type</th>\n",
       "      <th>size</th>\n",
       "      <th>bin</th>\n",
       "      <th>cities</th>\n",
       "      <th>countries</th>\n",
       "    </tr>\n",
       "  </thead>\n",
       "  <tbody>\n",
       "    <tr>\n",
       "      <th>0</th>\n",
       "      <td>0</td>\n",
       "      <td>2019/12/29</td>\n",
       "      <td>From Istabul to Athens. Seat 3C doesnt have an...</td>\n",
       "      <td>aegean-airlines</td>\n",
       "      <td>airbus_a319-100</td>\n",
       "      <td>NaN</td>\n",
       "      <td>NaN</td>\n",
       "      <td>NaN</td>\n",
       "      <td>NaN</td>\n",
       "      <td>NaN</td>\n",
       "      <td>short_haul</td>\n",
       "      <td>small</td>\n",
       "      <td>2</td>\n",
       "      <td>[Athens]</td>\n",
       "      <td>[Greece]</td>\n",
       "    </tr>\n",
       "    <tr>\n",
       "      <th>1</th>\n",
       "      <td>0</td>\n",
       "      <td>2018/06/09</td>\n",
       "      <td>I traveled Athens-Zurich with Aegean Airlines ...</td>\n",
       "      <td>aegean-airlines</td>\n",
       "      <td>airbus_a320-200</td>\n",
       "      <td>NaN</td>\n",
       "      <td>NaN</td>\n",
       "      <td>NaN</td>\n",
       "      <td>NaN</td>\n",
       "      <td>NaN</td>\n",
       "      <td>short_haul</td>\n",
       "      <td>medium</td>\n",
       "      <td>2</td>\n",
       "      <td>[Athens]</td>\n",
       "      <td>[Greece]</td>\n",
       "    </tr>\n",
       "    <tr>\n",
       "      <th>2</th>\n",
       "      <td>1</td>\n",
       "      <td>2018/05/25</td>\n",
       "      <td>very tiny leg room as I am quite tall. flight ...</td>\n",
       "      <td>aegean-airlines</td>\n",
       "      <td>airbus_a320-200</td>\n",
       "      <td>NaN</td>\n",
       "      <td>NaN</td>\n",
       "      <td>NaN</td>\n",
       "      <td>NaN</td>\n",
       "      <td>NaN</td>\n",
       "      <td>short_haul</td>\n",
       "      <td>medium</td>\n",
       "      <td>2</td>\n",
       "      <td>[]</td>\n",
       "      <td>[]</td>\n",
       "    </tr>\n",
       "    <tr>\n",
       "      <th>3</th>\n",
       "      <td>2</td>\n",
       "      <td>2018/04/19</td>\n",
       "      <td>Exit row 12F was nice for the 2.5 hour ZRH-ATH...</td>\n",
       "      <td>aegean-airlines</td>\n",
       "      <td>airbus_a320-200</td>\n",
       "      <td>NaN</td>\n",
       "      <td>NaN</td>\n",
       "      <td>NaN</td>\n",
       "      <td>NaN</td>\n",
       "      <td>NaN</td>\n",
       "      <td>short_haul</td>\n",
       "      <td>medium</td>\n",
       "      <td>2</td>\n",
       "      <td>[]</td>\n",
       "      <td>[]</td>\n",
       "    </tr>\n",
       "    <tr>\n",
       "      <th>4</th>\n",
       "      <td>3</td>\n",
       "      <td>2017/07/22</td>\n",
       "      <td>It is a wonderful seat at no additional cost (...</td>\n",
       "      <td>aegean-airlines</td>\n",
       "      <td>airbus_a320-200</td>\n",
       "      <td>NaN</td>\n",
       "      <td>NaN</td>\n",
       "      <td>NaN</td>\n",
       "      <td>NaN</td>\n",
       "      <td>NaN</td>\n",
       "      <td>short_haul</td>\n",
       "      <td>medium</td>\n",
       "      <td>2</td>\n",
       "      <td>[]</td>\n",
       "      <td>[]</td>\n",
       "    </tr>\n",
       "  </tbody>\n",
       "</table>\n",
       "</div>"
      ],
      "text/plain": [
       "   index        date                                               body  \\\n",
       "0      0  2019/12/29  From Istabul to Athens. Seat 3C doesnt have an...   \n",
       "1      0  2018/06/09  I traveled Athens-Zurich with Aegean Airlines ...   \n",
       "2      1  2018/05/25  very tiny leg room as I am quite tall. flight ...   \n",
       "3      2  2018/04/19  Exit row 12F was nice for the 2.5 hour ZRH-ATH...   \n",
       "4      3  2017/07/22  It is a wonderful seat at no additional cost (...   \n",
       "\n",
       "           airline         aircraft country number_of_reviews  rating header  \\\n",
       "0  aegean-airlines  airbus_a319-100     NaN               NaN     NaN    NaN   \n",
       "1  aegean-airlines  airbus_a320-200     NaN               NaN     NaN    NaN   \n",
       "2  aegean-airlines  airbus_a320-200     NaN               NaN     NaN    NaN   \n",
       "3  aegean-airlines  airbus_a320-200     NaN               NaN     NaN    NaN   \n",
       "4  aegean-airlines  airbus_a320-200     NaN               NaN     NaN    NaN   \n",
       "\n",
       "  cabin   trip_type    size  bin    cities countries  \n",
       "0   NaN  short_haul   small    2  [Athens]  [Greece]  \n",
       "1   NaN  short_haul  medium    2  [Athens]  [Greece]  \n",
       "2   NaN  short_haul  medium    2        []        []  \n",
       "3   NaN  short_haul  medium    2        []        []  \n",
       "4   NaN  short_haul  medium    2        []        []  "
      ]
     },
     "execution_count": 14,
     "metadata": {},
     "output_type": "execute_result"
    }
   ],
   "source": [
    "df_with_metadata.head()"
   ]
  },
  {
   "cell_type": "markdown",
   "metadata": {},
   "source": [
    "# Embedding"
   ]
  },
  {
   "cell_type": "code",
   "execution_count": null,
   "metadata": {},
   "outputs": [],
   "source": [
    "df2_small = df2.copy().iloc[:5000, :]\n",
    "preprocessor = TextPreprocessor(df2_small, column_to_clean='body')\n",
    "preprocessor.transform(n_grams=False, remove_stopwords=True)\n",
    "corpus = preprocessor.corpus"
   ]
  },
  {
   "cell_type": "code",
   "execution_count": null,
   "metadata": {},
   "outputs": [],
   "source": [
    "embeddor = Embeddor(corpus=corpus)\n",
    "embeddor.transform(vec_method=\"word2vec\", how=\"PCA\", n=3)\n",
    "word2vec_embed = embeddor.description_embedding\n",
    "word2vec_model = embeddor.model\n",
    "word2vec_embed['corpus'] = corpus\n",
    "word2vec_embed['rating'] = df2_small['rating']\n",
    "word2vec_embed.head()"
   ]
  },
  {
   "cell_type": "markdown",
   "metadata": {},
   "source": [
    "# LDA"
   ]
  },
  {
   "cell_type": "code",
   "execution_count": null,
   "metadata": {},
   "outputs": [],
   "source": [
    "df2_small[\"corpus\"] = corpus"
   ]
  },
  {
   "cell_type": "code",
   "execution_count": null,
   "metadata": {},
   "outputs": [],
   "source": [
    "#Dictionary\n",
    "tokens = df2_small.corpus\n",
    "dictionary = gensim.corpora.Dictionary(tokens)\n",
    "dictionary.filter_extremes(no_below=0.05, no_above=0.9)\n",
    "corpus_lda = [dictionary.doc2bow(tok) for tok in tokens]"
   ]
  },
  {
   "cell_type": "code",
   "execution_count": null,
   "metadata": {},
   "outputs": [],
   "source": [
    "ldaModel = gensim.models.ldamodel.LdaModel(corpus=corpus_lda,\n",
    "                                           id2word=dictionary,\n",
    "                                           num_topics=10, \n",
    "                                           random_state=42,\n",
    "                                           alpha=0.1,\n",
    "                                           eta=0.1,\n",
    "                                           per_word_topics=True)"
   ]
  },
  {
   "cell_type": "code",
   "execution_count": null,
   "metadata": {},
   "outputs": [],
   "source": [
    "for i, topic in ldaModel.show_topics(formatted=True, num_topics=10, num_words=20):\n",
    "    print(str(i)+\": \"+ topic+\"\\n\")"
   ]
  },
  {
   "cell_type": "code",
   "execution_count": null,
   "metadata": {},
   "outputs": [],
   "source": [
    "cm = CoherenceModel(model=ldaModel, corpus=corpus, texts=tokens ,coherence=\"c_v\")\n",
    "cm.get_coherence()"
   ]
  },
  {
   "cell_type": "code",
   "execution_count": null,
   "metadata": {},
   "outputs": [],
   "source": [
    "pyLDAvis.enable_notebook()\n",
    "vis = pyLDAvis.gensim.prepare(ldaModel, corpus_lda, dictionary)\n",
    "vis"
   ]
  },
  {
   "cell_type": "markdown",
   "metadata": {},
   "source": [
    "# GSDMM"
   ]
  },
  {
   "cell_type": "code",
   "execution_count": null,
   "metadata": {},
   "outputs": [],
   "source": [
    "df2_small['nb_token'] = list(map(len, df2_small['corpus']))\n",
    "docs = df2_small.corpus.to_list()\n",
    "vocab = set(x for doc in docs for x in doc)\n",
    "n_terms = len(vocab)"
   ]
  },
  {
   "cell_type": "code",
   "execution_count": null,
   "metadata": {},
   "outputs": [],
   "source": [
    "nb_topic = 10\n",
    "alpha = 0.1\n",
    "beta = 0.1\n",
    "\n",
    "mgpModel = MovieGroupProcess(K=nb_topic, alpha=alpha, beta=beta, n_iters=20)\n",
    "mgpModelFit = mgpModel.fit(tokens, n_terms)"
   ]
  },
  {
   "cell_type": "code",
   "execution_count": null,
   "metadata": {},
   "outputs": [],
   "source": [
    "def topWordsPerTopic(clusterDistrib, topIndex, nbWord):\n",
    "    for index in topIndex:\n",
    "        clusterWord = clusterDistrib[index]\n",
    "        sortedCluster = sorted(clusterWord.items(), key=operator.itemgetter(1), reverse=True)\n",
    "        clusterTopWords = sortedCluster[:nbWord]\n",
    "        print(f\"Cluster {index} : {clusterTopWords}\")\n",
    "        print('*'*20)"
   ]
  },
  {
   "cell_type": "code",
   "execution_count": null,
   "metadata": {},
   "outputs": [],
   "source": [
    "docCount = np.array(mgpModel.cluster_doc_count)\n",
    "print('Number of documents per topic :', docCount)\n",
    "print('*'*20)\n",
    "# Topics sorted by the number of document they are allocated to\n",
    "topIndex = docCount.argsort()[::-1]\n",
    "print('Most important clusters (by number of docs inside):', topIndex)\n",
    "print('*'*20)\n",
    "# Show the top 30 words in term frequency for each cluster \n",
    "topWordsPerTopic(mgpModel.cluster_word_distribution, topIndex, 30)"
   ]
  },
  {
   "cell_type": "code",
   "execution_count": null,
   "metadata": {},
   "outputs": [],
   "source": []
  }
 ],
 "metadata": {
  "interpreter": {
   "hash": "6972ee2bd1b4509a80cf34a71ca27c907c02bd1bee408bb4a0ddede37fe3d1b4"
  },
  "kernelspec": {
   "display_name": "Python 3",
   "language": "python",
   "name": "python3"
  },
  "language_info": {
   "codemirror_mode": {
    "name": "ipython",
    "version": 3
   },
   "file_extension": ".py",
   "mimetype": "text/x-python",
   "name": "python",
   "nbconvert_exporter": "python",
   "pygments_lexer": "ipython3",
   "version": "3.8.5"
  },
  "varInspector": {
   "cols": {
    "lenName": 16,
    "lenType": 16,
    "lenVar": 40
   },
   "kernels_config": {
    "python": {
     "delete_cmd_postfix": "",
     "delete_cmd_prefix": "del ",
     "library": "var_list.py",
     "varRefreshCmd": "print(var_dic_list())"
    },
    "r": {
     "delete_cmd_postfix": ") ",
     "delete_cmd_prefix": "rm(",
     "library": "var_list.r",
     "varRefreshCmd": "cat(var_dic_list()) "
    }
   },
   "types_to_exclude": [
    "module",
    "function",
    "builtin_function_or_method",
    "instance",
    "_Feature"
   ],
   "window_display": false
  }
 },
 "nbformat": 4,
 "nbformat_minor": 2
}
